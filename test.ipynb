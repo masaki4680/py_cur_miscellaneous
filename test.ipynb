{
 "metadata": {
  "language_info": {
   "codemirror_mode": {
    "name": "ipython",
    "version": 3
   },
   "file_extension": ".py",
   "mimetype": "text/x-python",
   "name": "python",
   "nbconvert_exporter": "python",
   "pygments_lexer": "ipython3",
   "version": "3.8.5"
  },
  "orig_nbformat": 2,
  "kernelspec": {
   "name": "pythonjvsc74a57bd09ec26d07775b6e7a7cb32b17112b75779561189c207fe9386f2ca106e6cffc13",
   "display_name": "Python 3.8.5 64-bit ('venv': venv)"
  },
  "metadata": {
   "interpreter": {
    "hash": "9ec26d07775b6e7a7cb32b17112b75779561189c207fe9386f2ca106e6cffc13"
   }
  }
 },
 "nbformat": 4,
 "nbformat_minor": 2,
 "cells": [
  {
   "cell_type": "code",
   "execution_count": 4,
   "metadata": {},
   "outputs": [
    {
     "output_type": "stream",
     "name": "stdout",
     "text": [
      "beer\n"
     ]
    }
   ],
   "source": [
    "print('beer')"
   ]
  },
  {
   "cell_type": "code",
   "execution_count": 5,
   "metadata": {},
   "outputs": [
    {
     "output_type": "execute_result",
     "data": {
      "text/plain": [
       "        2021/2/1 7:00  1.37007  1.37008  1.37003  1.37003.1  1.37147  1.37148  \\\n",
       "28797  2021/2/27 6:58  1.39249  1.39249  1.39164    1.39175  1.39389  1.39389   \n",
       "28798  2021/2/27 6:59  1.39175  1.39247  1.39134    1.39207  1.39335  1.39364   \n",
       "\n",
       "       1.37143  1.37143.1  \n",
       "28797  1.39324    1.39335  \n",
       "28798  1.39200    1.39217  "
      ],
      "text/html": "<div>\n<style scoped>\n    .dataframe tbody tr th:only-of-type {\n        vertical-align: middle;\n    }\n\n    .dataframe tbody tr th {\n        vertical-align: top;\n    }\n\n    .dataframe thead th {\n        text-align: right;\n    }\n</style>\n<table border=\"1\" class=\"dataframe\">\n  <thead>\n    <tr style=\"text-align: right;\">\n      <th></th>\n      <th>2021/2/1 7:00</th>\n      <th>1.37007</th>\n      <th>1.37008</th>\n      <th>1.37003</th>\n      <th>1.37003.1</th>\n      <th>1.37147</th>\n      <th>1.37148</th>\n      <th>1.37143</th>\n      <th>1.37143.1</th>\n    </tr>\n  </thead>\n  <tbody>\n    <tr>\n      <th>28797</th>\n      <td>2021/2/27 6:58</td>\n      <td>1.39249</td>\n      <td>1.39249</td>\n      <td>1.39164</td>\n      <td>1.39175</td>\n      <td>1.39389</td>\n      <td>1.39389</td>\n      <td>1.39324</td>\n      <td>1.39335</td>\n    </tr>\n    <tr>\n      <th>28798</th>\n      <td>2021/2/27 6:59</td>\n      <td>1.39175</td>\n      <td>1.39247</td>\n      <td>1.39134</td>\n      <td>1.39207</td>\n      <td>1.39335</td>\n      <td>1.39364</td>\n      <td>1.39200</td>\n      <td>1.39217</td>\n    </tr>\n  </tbody>\n</table>\n</div>"
     },
     "metadata": {},
     "execution_count": 5
    }
   ],
   "source": [
    "import pandas as pd\n",
    "df = pd.read_csv('GBPUSD202102.csv')\n",
    "df.tail(2)"
   ]
  },
  {
   "cell_type": "code",
   "execution_count": null,
   "metadata": {},
   "outputs": [],
   "source": []
  }
 ]
}